{
 "cells": [
  {
   "cell_type": "markdown",
   "metadata": {},
   "source": [
    "### Latihan 1\n",
    "Membuat identitas diri menggunakan pemograman python sederhana"
   ]
  },
  {
   "cell_type": "code",
   "execution_count": null,
   "metadata": {},
   "outputs": [],
   "source": [
    "nama = \"Alvian Totonafo Mendrofa\"\n",
    "nim = \"20220801045\"\n",
    "fakultas = \"Ilmu Komputer\"\n",
    "prodi = \"Teknik Informatika\"\n",
    "\n",
    "print(\"Data Diri\")\n",
    "print(\"Nama     : \"+nama)\n",
    "print(\"NIM      : \"+nim)\n",
    "print(\"Fakultas : \"+fakultas)\n",
    "print(\"Prodi    : \"+prodi)"
   ]
  },
  {
   "cell_type": "markdown",
   "metadata": {},
   "source": [
    "### Latihan 2\n",
    "Membuat Matriks dengan ordo 3x3"
   ]
  },
  {
   "cell_type": "code",
   "execution_count": null,
   "metadata": {},
   "outputs": [],
   "source": [
    "matrice = [[1, 2, 3], [4, 5, 6], [7, 8, 9]]\n",
    "\n",
    "print(matrice)"
   ]
  },
  {
   "cell_type": "markdown",
   "metadata": {},
   "source": [
    "### Latihan 3\n",
    "Menmbuat Matriks dengan ordo 5x5 dengan menambahkan library NumPy didalamnya"
   ]
  },
  {
   "cell_type": "code",
   "execution_count": null,
   "metadata": {},
   "outputs": [],
   "source": [
    "from numpy import *\n",
    "\n",
    "matrice = range(25)\n",
    "matrice = reshape(matrice, (5, 5))\n",
    "\n",
    "print(matrice)"
   ]
  },
  {
   "cell_type": "markdown",
   "metadata": {},
   "source": [
    "### Latihan 4\n",
    "Membuat Matriks dengan menggunakan Library NumPy dengan orde 3x20, dan nilai elemen dimulai dari indeks 1 sampai dengan 10 secara random"
   ]
  },
  {
   "cell_type": "code",
   "execution_count": null,
   "metadata": {},
   "outputs": [],
   "source": [
    "import numpy as np\n",
    "from numpy import *\n",
    "\n",
    "matrice = np.random.randint(1, 10, (3, 20))\n",
    "print(matrice)"
   ]
  }
 ],
 "metadata": {
  "kernelspec": {
   "display_name": "Python 3",
   "language": "python",
   "name": "python3"
  },
  "language_info": {
   "codemirror_mode": {
    "name": "ipython",
    "version": 3
   },
   "file_extension": ".py",
   "mimetype": "text/x-python",
   "name": "python",
   "nbconvert_exporter": "python",
   "pygments_lexer": "ipython3",
   "version": "3.10.12"
  }
 },
 "nbformat": 4,
 "nbformat_minor": 2
}
